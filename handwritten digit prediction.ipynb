{
 "cells": [
  {
   "cell_type": "markdown",
   "id": "31e3ef77-3c7f-4128-836b-6be477a2feb9",
   "metadata": {},
   "source": [
    "## HAND WRITTEN DIGIT PREDICTION - CLASSIFICATION ANALYSIS"
   ]
  },
  {
   "cell_type": "markdown",
   "id": "08a71899-bf6b-426f-aaa0-f708a6b20afd",
   "metadata": {},
   "source": [
    "### The digit dataset consists of 8x8 pixel images of digits. The images attributes of the dataset stores 8x8 arrays of grayscle values for each images. we will use these arrays to vizualize the first 4 images. The target attribute of the dataset stores the digit each image represents ."
   ]
  },
  {
   "cell_type": "markdown",
   "id": "44a33b9a-e418-4645-a335-93e3c2b9bfc8",
   "metadata": {},
   "source": [
    "## import Library"
   ]
  },
  {
   "cell_type": "code",
   "execution_count": 3,
   "id": "5485b4b6-4661-4415-93af-e74d571e6a6c",
   "metadata": {},
   "outputs": [],
   "source": [
    "import pandas as pd \n",
    "import numpy as np\n",
    "import matplotlib.pyplot as plt"
   ]
  },
  {
   "cell_type": "markdown",
   "id": "ec23b426-c47d-4e7f-842e-7deb1d8c3889",
   "metadata": {},
   "source": [
    "## Import Data"
   ]
  },
  {
   "cell_type": "code",
   "execution_count": 4,
   "id": "b711e343-0cd4-48ed-a6be-6e11d264e3e8",
   "metadata": {},
   "outputs": [],
   "source": [
    "from sklearn.datasets import load_digits"
   ]
  },
  {
   "cell_type": "code",
   "execution_count": 6,
   "id": "6224870f-496a-47d3-9467-d3cc762e1d86",
   "metadata": {},
   "outputs": [],
   "source": [
    "df = load_digits()"
   ]
  },
  {
   "cell_type": "code",
   "execution_count": 8,
   "id": "807837ba-8ff1-4ac0-90db-46a3f20154ff",
   "metadata": {},
   "outputs": [
    {
     "data": {
      "image/png": "[encoded data removed]",
      "text/plain": [
       "<Figure size 1000x300 with 4 Axes>"
      ]
     },
     "metadata": {},
     "output_type": "display_data"
    }
   ],
   "source": [
    "_, axes = plt.subplots(nrows=1, ncols=4, figsize=(10,3))\n",
    "for ax, image, label in zip(axes, df.images, df.target):\n",
    "     ax.set_axis_off()\n",
    "     ax.imshow(image, cmap=plt.cm.gray_r, interpolation = \"nearest\")\n",
    "     ax.set_title(\"Training: %i\" %label)"
   ]
  },
  {
   "cell_type": "markdown",
   "id": "dd32e96c-d367-432b-b50b-6f8386c681fd",
   "metadata": {},
   "source": [
    "## data processing"
   ]
  },
  {
   "cell_type": "code",
   "execution_count": 9,
   "id": "baf69639-f99e-4897-b9a5-af5825837c74",
   "metadata": {},
   "outputs": [
    {
     "data": {
      "text/plain": [
       "(1797, 8, 8)"
      ]
     },
     "execution_count": 9,
     "metadata": {},
     "output_type": "execute_result"
    }
   ],
   "source": [
    "df.images.shape"
   ]
  },
  {
   "cell_type": "code",
   "execution_count": 10,
   "id": "cd7a253f-bc9c-4575-b750-fa080fb24acf",
   "metadata": {},
   "outputs": [
    {
     "data": {
      "text/plain": [
       "array([[ 0.,  0.,  5., 13.,  9.,  1.,  0.,  0.],\n",
       "       [ 0.,  0., 13., 15., 10., 15.,  5.,  0.],\n",
       "       [ 0.,  3., 15.,  2.,  0., 11.,  8.,  0.],\n",
       "       [ 0.,  4., 12.,  0.,  0.,  8.,  8.,  0.],\n",
       "       [ 0.,  5.,  8.,  0.,  0.,  9.,  8.,  0.],\n",
       "       [ 0.,  4., 11.,  0.,  1., 12.,  7.,  0.],\n",
       "       [ 0.,  2., 14.,  5., 10., 12.,  0.,  0.],\n",
       "       [ 0.,  0.,  6., 13., 10.,  0.,  0.,  0.]])"
      ]
     },
     "execution_count": 10,
     "metadata": {},
     "output_type": "execute_result"
    }
   ],
   "source": [
    "df.images[0]"
   ]
  },
  {
   "cell_type": "code",
   "execution_count": 11,
   "id": "b9b35ab3-f7c6-4ae1-b55d-cbc63903fd71",
   "metadata": {},
   "outputs": [
    {
     "data": {
      "text/plain": [
       "(8, 8)"
      ]
     },
     "execution_count": 11,
     "metadata": {},
     "output_type": "execute_result"
    }
   ],
   "source": [
    "df.images[0].shape"
   ]
  },
  {
   "cell_type": "code",
   "execution_count": 12,
   "id": "a82493e0-23f3-42c1-8cc7-cfedb634b11e",
   "metadata": {},
   "outputs": [
    {
     "data": {
      "text/plain": [
       "1797"
      ]
     },
     "execution_count": 12,
     "metadata": {},
     "output_type": "execute_result"
    }
   ],
   "source": [
    "len(df.images)"
   ]
  },
  {
   "cell_type": "code",
   "execution_count": 13,
   "id": "5c4be07b-dbf8-4215-9875-c40bfcc3fca9",
   "metadata": {},
   "outputs": [],
   "source": [
    "n_samples = len(df.images)\n",
    "data = df.images.reshape((n_samples, -1))"
   ]
  },
  {
   "cell_type": "code",
   "execution_count": 14,
   "id": "ccbe4bd9-a72e-41e0-809b-75b2914532fd",
   "metadata": {},
   "outputs": [
    {
     "data": {
      "text/plain": [
       "array([ 0.,  0.,  5., 13.,  9.,  1.,  0.,  0.,  0.,  0., 13., 15., 10.,\n",
       "       15.,  5.,  0.,  0.,  3., 15.,  2.,  0., 11.,  8.,  0.,  0.,  4.,\n",
       "       12.,  0.,  0.,  8.,  8.,  0.,  0.,  5.,  8.,  0.,  0.,  9.,  8.,\n",
       "        0.,  0.,  4., 11.,  0.,  1., 12.,  7.,  0.,  0.,  2., 14.,  5.,\n",
       "       10., 12.,  0.,  0.,  0.,  0.,  6., 13., 10.,  0.,  0.,  0.])"
      ]
     },
     "execution_count": 14,
     "metadata": {},
     "output_type": "execute_result"
    }
   ],
   "source": [
    "data[0]"
   ]
  },
  {
   "cell_type": "code",
   "execution_count": 15,
   "id": "5a9072f1-dc48-4851-aa0c-6b30020192ec",
   "metadata": {},
   "outputs": [
    {
     "data": {
      "text/plain": [
       "(64,)"
      ]
     },
     "execution_count": 15,
     "metadata": {},
     "output_type": "execute_result"
    }
   ],
   "source": [
    "data[0].shape"
   ]
  },
  {
   "cell_type": "code",
   "execution_count": 16,
   "id": "f5debb83-c175-462f-ae84-f2d5ed51b5fa",
   "metadata": {},
   "outputs": [
    {
     "data": {
      "text/plain": [
       "(1797, 64)"
      ]
     },
     "execution_count": 16,
     "metadata": {},
     "output_type": "execute_result"
    }
   ],
   "source": [
    "data.shape"
   ]
  },
  {
   "cell_type": "markdown",
   "id": "801c3120-10fb-46ee-b926-bdeed0ec5ff1",
   "metadata": {},
   "source": [
    "## Scaling Image Data"
   ]
  },
  {
   "cell_type": "code",
   "execution_count": 17,
   "id": "1b4ecca5-fa0a-459c-93f1-94a46570aeb4",
   "metadata": {},
   "outputs": [
    {
     "data": {
      "text/plain": [
       "0.0"
      ]
     },
     "execution_count": 17,
     "metadata": {},
     "output_type": "execute_result"
    }
   ],
   "source": [
    "data.min()"
   ]
  },
  {
   "cell_type": "code",
   "execution_count": 18,
   "id": "d04b3f0a-1c6f-4e21-9297-f45fe67256af",
   "metadata": {},
   "outputs": [
    {
     "data": {
      "text/plain": [
       "16.0"
      ]
     },
     "execution_count": 18,
     "metadata": {},
     "output_type": "execute_result"
    }
   ],
   "source": [
    "data.max()"
   ]
  },
  {
   "cell_type": "code",
   "execution_count": 19,
   "id": "f56d2a26-d63d-48e7-9e17-9958e465ab3a",
   "metadata": {},
   "outputs": [],
   "source": [
    "data = data/16"
   ]
  },
  {
   "cell_type": "code",
   "execution_count": 20,
   "id": "c202725b-d234-46a8-991f-ed9bc81ed390",
   "metadata": {},
   "outputs": [
    {
     "data": {
      "text/plain": [
       "0.0"
      ]
     },
     "execution_count": 20,
     "metadata": {},
     "output_type": "execute_result"
    }
   ],
   "source": [
    "data.min()"
   ]
  },
  {
   "cell_type": "code",
   "execution_count": 21,
   "id": "42827251-1e1c-469d-b4e8-bab486a4ccec",
   "metadata": {},
   "outputs": [
    {
     "data": {
      "text/plain": [
       "1.0"
      ]
     },
     "execution_count": 21,
     "metadata": {},
     "output_type": "execute_result"
    }
   ],
   "source": [
    "data.max()"
   ]
  },
  {
   "cell_type": "code",
   "execution_count": 22,
   "id": "060a41ad-b928-48d3-a64a-5e8f7d27e7c7",
   "metadata": {},
   "outputs": [
    {
     "data": {
      "text/plain": [
       "array([0.    , 0.    , 0.3125, 0.8125, 0.5625, 0.0625, 0.    , 0.    ,\n",
       "       0.    , 0.    , 0.8125, 0.9375, 0.625 , 0.9375, 0.3125, 0.    ,\n",
       "       0.    , 0.1875, 0.9375, 0.125 , 0.    , 0.6875, 0.5   , 0.    ,\n",
       "       0.    , 0.25  , 0.75  , 0.    , 0.    , 0.5   , 0.5   , 0.    ,\n",
       "       0.    , 0.3125, 0.5   , 0.    , 0.    , 0.5625, 0.5   , 0.    ,\n",
       "       0.    , 0.25  , 0.6875, 0.    , 0.0625, 0.75  , 0.4375, 0.    ,\n",
       "       0.    , 0.125 , 0.875 , 0.3125, 0.625 , 0.75  , 0.    , 0.    ,\n",
       "       0.    , 0.    , 0.375 , 0.8125, 0.625 , 0.    , 0.    , 0.    ])"
      ]
     },
     "execution_count": 22,
     "metadata": {},
     "output_type": "execute_result"
    }
   ],
   "source": [
    "data[0]"
   ]
  },
  {
   "cell_type": "markdown",
   "id": "3cc406cd-39da-4154-9291-52ffdb60706d",
   "metadata": {},
   "source": [
    "## Train Test Split Data"
   ]
  },
  {
   "cell_type": "code",
   "execution_count": 23,
   "id": "f24b037a-d889-4609-96f0-f95f692f2d0f",
   "metadata": {},
   "outputs": [],
   "source": [
    "from sklearn.model_selection import train_test_split"
   ]
  },
  {
   "cell_type": "code",
   "execution_count": 24,
   "id": "9d617275-888d-4573-9b03-20eea914e35b",
   "metadata": {},
   "outputs": [],
   "source": [
    "x_train, x_test, y_train, y_test = train_test_split(data, df.target, test_size=0.3)"
   ]
  },
  {
   "cell_type": "code",
   "execution_count": 25,
   "id": "bdcf37ee-6241-4630-a6cb-34a4af139b46",
   "metadata": {},
   "outputs": [
    {
     "data": {
      "text/plain": [
       "((1257, 64), (540, 64), (1257,), (540,))"
      ]
     },
     "execution_count": 25,
     "metadata": {},
     "output_type": "execute_result"
    }
   ],
   "source": [
    "x_train.shape,x_test.shape, y_train.shape, y_test.shape"
   ]
  },
  {
   "cell_type": "markdown",
   "id": "54f712dd-7fba-4ef2-876c-2a990b05c675",
   "metadata": {},
   "source": [
    "## Random Forest Model"
   ]
  },
  {
   "cell_type": "code",
   "execution_count": 26,
   "id": "f7453cf5-a43a-41da-8ea1-21bb6b981046",
   "metadata": {},
   "outputs": [],
   "source": [
    "from sklearn.ensemble import RandomForestClassifier"
   ]
  },
  {
   "cell_type": "code",
   "execution_count": 27,
   "id": "63afe5fd-61a6-44db-b94d-ada029ad3525",
   "metadata": {},
   "outputs": [],
   "source": [
    "rf = RandomForestClassifier()"
   ]
  },
  {
   "cell_type": "code",
   "execution_count": 28,
   "id": "94aa1993-6ab8-4ef7-b5dc-0fec303efc15",
   "metadata": {},
   "outputs": [
    {
     "data": {
      "text/html": [
       "<style>#sk-container-id-1 {color: black;background-color: white;}#sk-container-id-1 pre{padding: 0;}#sk-container-id-1 div.sk-toggleable {background-color: white;}#sk-container-id-1 label.sk-toggleable__label {cursor: pointer;display: block;width: 100%;margin-bottom: 0;padding: 0.3em;box-sizing: border-box;text-align: center;}#sk-container-id-1 label.sk-toggleable__label-arrow:before {content: \"▸\";float: left;margin-right: 0.25em;color: #696969;}#sk-container-id-1 label.sk-toggleable__label-arrow:hover:before {color: black;}#sk-container-id-1 div.sk-estimator:hover label.sk-toggleable__label-arrow:before {color: black;}#sk-container-id-1 div.sk-toggleable__content {max-height: 0;max-width: 0;overflow: hidden;text-align: left;background-color: #f0f8ff;}#sk-container-id-1 div.sk-toggleable__content pre {margin: 0.2em;color: black;border-radius: 0.25em;background-color: #f0f8ff;}#sk-container-id-1 input.sk-toggleable__control:checked~div.sk-toggleable__content {max-height: 200px;max-width: 100%;overflow: auto;}#sk-container-id-1 input.sk-toggleable__control:checked~label.sk-toggleable__label-arrow:before {content: \"▾\";}#sk-container-id-1 div.sk-estimator input.sk-toggleable__control:checked~label.sk-toggleable__label {background-color: #d4ebff;}#sk-container-id-1 div.sk-label input.sk-toggleable__control:checked~label.sk-toggleable__label {background-color: #d4ebff;}#sk-container-id-1 input.sk-hidden--visually {border: 0;clip: rect(1px 1px 1px 1px);clip: rect(1px, 1px, 1px, 1px);height: 1px;margin: -1px;overflow: hidden;padding: 0;position: absolute;width: 1px;}#sk-container-id-1 div.sk-estimator {font-family: monospace;background-color: #f0f8ff;border: 1px dotted black;border-radius: 0.25em;box-sizing: border-box;margin-bottom: 0.5em;}#sk-container-id-1 div.sk-estimator:hover {background-color: #d4ebff;}#sk-container-id-1 div.sk-parallel-item::after {content: \"\";width: 100%;border-bottom: 1px solid gray;flex-grow: 1;}#sk-container-id-1 div.sk-label:hover label.sk-toggleable__label {background-color: #d4ebff;}#sk-container-id-1 div.sk-serial::before {content: \"\";position: absolute;border-left: 1px solid gray;box-sizing: border-box;top: 0;bottom: 0;left: 50%;z-index: 0;}#sk-container-id-1 div.sk-serial {display: flex;flex-direction: column;align-items: center;background-color: white;padding-right: 0.2em;padding-left: 0.2em;position: relative;}#sk-container-id-1 div.sk-item {position: relative;z-index: 1;}#sk-container-id-1 div.sk-parallel {display: flex;align-items: stretch;justify-content: center;background-color: white;position: relative;}#sk-container-id-1 div.sk-item::before, #sk-container-id-1 div.sk-parallel-item::before {content: \"\";position: absolute;border-left: 1px solid gray;box-sizing: border-box;top: 0;bottom: 0;left: 50%;z-index: -1;}#sk-container-id-1 div.sk-parallel-item {display: flex;flex-direction: column;z-index: 1;position: relative;background-color: white;}#sk-container-id-1 div.sk-parallel-item:first-child::after {align-self: flex-end;width: 50%;}#sk-container-id-1 div.sk-parallel-item:last-child::after {align-self: flex-start;width: 50%;}#sk-container-id-1 div.sk-parallel-item:only-child::after {width: 0;}#sk-container-id-1 div.sk-dashed-wrapped {border: 1px dashed gray;margin: 0 0.4em 0.5em 0.4em;box-sizing: border-box;padding-bottom: 0.4em;background-color: white;}#sk-container-id-1 div.sk-label label {font-family: monospace;font-weight: bold;display: inline-block;line-height: 1.2em;}#sk-container-id-1 div.sk-label-container {text-align: center;}#sk-container-id-1 div.sk-container {/* jupyter's `normalize.less` sets `[hidden] { display: none; }` but bootstrap.min.css set `[hidden] { display: none !important; }` so we also need the `!important` here to be able to override the default hidden behavior on the sphinx rendered scikit-learn.org. See: https://github.com/scikit-learn/scikit-learn/issues/21755 */display: inline-block !important;position: relative;}#sk-container-id-1 div.sk-text-repr-fallback {display: none;}</style><div id=\"sk-container-id-1\" class=\"sk-top-container\"><div class=\"sk-text-repr-fallback\"><pre>RandomForestClassifier()</pre><b>In a Jupyter environment, please rerun this cell to show the HTML representation or trust the notebook. <br />On GitHub, the HTML representation is unable to render, please try loading this page with nbviewer.org.</b></div><div class=\"sk-container\" hidden><div class=\"sk-item\"><div class=\"sk-estimator sk-toggleable\"><input class=\"sk-toggleable__control sk-hidden--visually\" id=\"sk-estimator-id-1\" type=\"checkbox\" checked><label for=\"sk-estimator-id-1\" class=\"sk-toggleable__label sk-toggleable__label-arrow\">RandomForestClassifier</label><div class=\"sk-toggleable__content\"><pre>RandomForestClassifier()</pre></div></div></div></div></div>"
      ],
      "text/plain": [
       "RandomForestClassifier()"
      ]
     },
     "execution_count": 28,
     "metadata": {},
     "output_type": "execute_result"
    }
   ],
   "source": [
    "rf.fit(x_train , y_train)"
   ]
  },
  {
   "cell_type": "markdown",
   "id": "12382902-23d2-4358-a15e-570f76f94070",
   "metadata": {},
   "source": [
    "## Predict Test Data"
   ]
  },
  {
   "cell_type": "code",
   "execution_count": 29,
   "id": "9da49c01-6f57-42b1-a9d7-0366793616ef",
   "metadata": {},
   "outputs": [],
   "source": [
    "y_pred = rf.predict(x_test)"
   ]
  },
  {
   "cell_type": "code",
   "execution_count": 30,
   "id": "42ad6f22-a3c5-401a-b2bf-004d2f13e2d2",
   "metadata": {},
   "outputs": [
    {
     "data": {
      "text/plain": [
       "array([3, 1, 8, 0, 9, 8, 1, 8, 4, 1, 2, 5, 1, 5, 2, 4, 1, 8, 9, 8, 6, 3,\n",
       "       7, 6, 7, 3, 5, 6, 9, 3, 1, 2, 8, 4, 6, 0, 4, 4, 2, 5, 4, 5, 7, 3,\n",
       "       8, 6, 3, 5, 9, 2, 7, 3, 4, 9, 3, 4, 2, 1, 5, 7, 5, 4, 1, 9, 6, 4,\n",
       "       7, 7, 5, 8, 4, 5, 8, 8, 5, 3, 2, 4, 5, 6, 8, 5, 5, 4, 5, 6, 4, 1,\n",
       "       1, 8, 6, 4, 0, 3, 9, 6, 7, 8, 5, 5, 0, 1, 1, 1, 7, 7, 3, 5, 8, 9,\n",
       "       2, 0, 6, 2, 4, 9, 7, 9, 8, 8, 5, 9, 0, 1, 4, 6, 0, 7, 7, 2, 2, 5,\n",
       "       4, 3, 6, 0, 8, 6, 6, 5, 1, 8, 1, 3, 7, 1, 4, 6, 4, 9, 8, 0, 8, 0,\n",
       "       8, 9, 1, 4, 7, 4, 8, 4, 4, 3, 4, 3, 3, 1, 9, 0, 1, 9, 1, 7, 6, 1,\n",
       "       8, 2, 5, 1, 3, 9, 6, 6, 7, 6, 0, 8, 7, 3, 4, 8, 6, 7, 5, 3, 9, 4,\n",
       "       6, 6, 9, 4, 7, 9, 5, 3, 6, 8, 7, 9, 6, 2, 2, 9, 5, 6, 5, 9, 5, 2,\n",
       "       3, 3, 3, 3, 0, 7, 6, 1, 0, 3, 5, 8, 3, 7, 6, 8, 0, 7, 1, 7, 1, 7,\n",
       "       6, 9, 7, 6, 0, 0, 2, 4, 9, 0, 6, 6, 4, 7, 3, 5, 3, 0, 4, 5, 5, 9,\n",
       "       6, 1, 1, 8, 3, 5, 9, 9, 7, 8, 8, 5, 0, 4, 9, 7, 6, 3, 4, 2, 0, 4,\n",
       "       8, 6, 1, 8, 1, 2, 6, 9, 4, 0, 4, 9, 4, 4, 6, 6, 9, 1, 9, 9, 9, 8,\n",
       "       8, 3, 1, 9, 3, 7, 2, 1, 4, 5, 6, 3, 7, 0, 2, 0, 4, 4, 9, 1, 7, 1,\n",
       "       9, 6, 3, 7, 6, 5, 4, 2, 5, 6, 3, 0, 3, 2, 5, 1, 8, 6, 9, 4, 1, 0,\n",
       "       9, 3, 8, 9, 8, 7, 7, 4, 0, 7, 4, 3, 8, 8, 1, 8, 0, 2, 1, 3, 6, 7,\n",
       "       8, 1, 7, 1, 0, 7, 5, 3, 7, 6, 1, 9, 5, 5, 4, 9, 9, 5, 5, 7, 3, 3,\n",
       "       3, 2, 1, 1, 7, 2, 5, 5, 4, 1, 1, 9, 8, 5, 6, 2, 2, 5, 9, 0, 6, 5,\n",
       "       1, 0, 6, 5, 4, 5, 6, 4, 2, 2, 6, 1, 2, 6, 8, 4, 5, 9, 8, 7, 4, 3,\n",
       "       5, 1, 5, 3, 3, 0, 3, 0, 4, 4, 6, 4, 1, 4, 6, 3, 1, 2, 7, 2, 4, 4,\n",
       "       6, 0, 8, 0, 4, 3, 2, 5, 7, 9, 9, 6, 8, 5, 4, 1, 3, 5, 8, 5, 6, 2,\n",
       "       0, 2, 9, 0, 0, 1, 9, 6, 5, 4, 0, 9, 7, 3, 6, 8, 8, 9, 5, 9, 3, 4,\n",
       "       5, 2, 9, 3, 4, 1, 4, 8, 7, 8, 1, 0, 4, 4, 2, 8, 8, 6, 8, 3, 1, 5,\n",
       "       2, 0, 1, 2, 5, 5, 7, 7, 6, 3, 2, 6])"
      ]
     },
     "execution_count": 30,
     "metadata": {},
     "output_type": "execute_result"
    }
   ],
   "source": [
    "y_pred"
   ]
  },
  {
   "cell_type": "markdown",
   "id": "1ab9284e-61da-448c-b803-3c1e7e098417",
   "metadata": {},
   "source": [
    "## model Accuracy"
   ]
  },
  {
   "cell_type": "code",
   "execution_count": 31,
   "id": "5f085432-aed3-459b-9145-b6b1cce4cc08",
   "metadata": {},
   "outputs": [],
   "source": [
    "from sklearn.metrics import confusion_matrix, classification_report"
   ]
  },
  {
   "cell_type": "code",
   "execution_count": 32,
   "id": "98e4a5af-3aad-446d-980d-de901b49bfe9",
   "metadata": {},
   "outputs": [
    {
     "data": {
      "text/plain": [
       "array([[40,  0,  0,  0,  1,  0,  0,  0,  0,  0],\n",
       "       [ 0, 53,  0,  0,  0,  0,  0,  0,  0,  0],\n",
       "       [ 1,  1, 40,  0,  0,  0,  0,  0,  0,  0],\n",
       "       [ 0,  0,  0, 55,  0,  0,  0,  0,  2,  0],\n",
       "       [ 0,  0,  0,  0, 64,  0,  0,  0,  0,  1],\n",
       "       [ 0,  0,  0,  0,  0, 58,  0,  0,  0,  1],\n",
       "       [ 0,  0,  0,  0,  0,  1, 61,  0,  0,  0],\n",
       "       [ 0,  0,  0,  0,  0,  0,  0, 47,  0,  0],\n",
       "       [ 0,  3,  0,  0,  0,  0,  0,  2, 52,  0],\n",
       "       [ 0,  0,  0,  0,  0,  3,  0,  1,  1, 52]], dtype=int64)"
      ]
     },
     "execution_count": 32,
     "metadata": {},
     "output_type": "execute_result"
    }
   ],
   "source": [
    "confusion_matrix(y_test, y_pred)"
   ]
  },
  {
   "cell_type": "code",
   "execution_count": 34,
   "id": "5beef4d5-5f9c-4779-9859-029ecfe4171b",
   "metadata": {},
   "outputs": [
    {
     "name": "stdout",
     "output_type": "stream",
     "text": [
      "              precision    recall  f1-score   support\n",
      "\n",
      "           0       0.98      0.98      0.98        41\n",
      "           1       0.93      1.00      0.96        53\n",
      "           2       1.00      0.95      0.98        42\n",
      "           3       1.00      0.96      0.98        57\n",
      "           4       0.98      0.98      0.98        65\n",
      "           5       0.94      0.98      0.96        59\n",
      "           6       1.00      0.98      0.99        62\n",
      "           7       0.94      1.00      0.97        47\n",
      "           8       0.95      0.91      0.93        57\n",
      "           9       0.96      0.91      0.94        57\n",
      "\n",
      "    accuracy                           0.97       540\n",
      "   macro avg       0.97      0.97      0.97       540\n",
      "weighted avg       0.97      0.97      0.97       540\n",
      "\n"
     ]
    }
   ],
   "source": [
    "print(classification_report(y_test, y_pred))"
   ]
  },
  {
   "cell_type": "code",
   "execution_count": null,
   "id": "1d3cf39a-bb28-4cc2-99b3-b3d7ecc125b3",
   "metadata": {},
   "outputs": [],
   "source": []
  }
 ],
 "metadata": {
  "kernelspec": {
   "display_name": "Python 3 (ipykernel)",
   "language": "python",
   "name": "python3"
  },
  "language_info": {
   "codemirror_mode": {
    "name": "ipython",
    "version": 3
   },
   "file_extension": ".py",
   "mimetype": "text/x-python",
   "name": "python",
   "nbconvert_exporter": "python",
   "pygments_lexer": "ipython3",
   "version": "3.11.7"
  }
 },
 "nbformat": 4,
 "nbformat_minor": 5
}
